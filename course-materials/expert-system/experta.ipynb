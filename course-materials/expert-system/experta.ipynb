{
  "nbformat": 4,
  "nbformat_minor": 0,
  "metadata": {
    "colab": {
      "name": "experta",
      "provenance": [],
      "collapsed_sections": []
    },
    "kernelspec": {
      "name": "python3",
      "display_name": "Python 3"
    }
  },
  "cells": [
    {
      "cell_type": "markdown",
      "metadata": {
        "id": "lJqjpcBUs_Lj",
        "colab_type": "text"
      },
      "source": [
        "# Python Expert system based on CLIPS"
      ]
    },
    {
      "cell_type": "markdown",
      "metadata": {
        "id": "Im2Ie9svtJuL",
        "colab_type": "text"
      },
      "source": [
        "## installation "
      ]
    },
    {
      "cell_type": "code",
      "metadata": {
        "id": "xwlsOgOcXXgB",
        "colab_type": "code",
        "colab": {
          "base_uri": "https://localhost:8080/",
          "height": 71
        },
        "outputId": "445c4074-5ee3-4728-c36c-ab3e63b39d78"
      },
      "source": [
        "! pip install experta"
      ],
      "execution_count": 1,
      "outputs": [
        {
          "output_type": "stream",
          "text": [
            "Requirement already satisfied: experta in /usr/local/lib/python3.6/dist-packages (1.9.4)\n",
            "Requirement already satisfied: frozendict==1.2 in /usr/local/lib/python3.6/dist-packages (from experta) (1.2)\n",
            "Requirement already satisfied: schema==0.6.7 in /usr/local/lib/python3.6/dist-packages (from experta) (0.6.7)\n"
          ],
          "name": "stdout"
        }
      ]
    },
    {
      "cell_type": "markdown",
      "metadata": {
        "id": "ICGJF6KCttmF",
        "colab_type": "text"
      },
      "source": [
        "## The Basics\n",
        "\n",
        "An expert system is a program capable of pairing up a set of **facts** with\n",
        "a set of **rules** to those facts, and execute some actions based on the matching rules."
      ]
    },
    {
      "cell_type": "markdown",
      "metadata": {
        "id": "2poRYfrvt0bE",
        "colab_type": "text"
      },
      "source": [
        "## Facts\n",
        "\n",
        "`Facts` are the basic unit of information of Experta. They are used by the system to reason about the problem.\n",
        "\n",
        "Let's enumerate some facts about `Facts`, so... metafacts ;)\n",
        "\n"
      ]
    },
    {
      "cell_type": "markdown",
      "metadata": {
        "id": "2tsKb4aAugUk",
        "colab_type": "text"
      },
      "source": [
        "The class `Fact` is a subclass of `dict`.\n"
      ]
    },
    {
      "cell_type": "code",
      "metadata": {
        "id": "PEsyFqdjt8On",
        "colab_type": "code",
        "colab": {
          "base_uri": "https://localhost:8080/",
          "height": 35
        },
        "outputId": "d5610378-3da1-4a44-cf90-4c5cb96ed950"
      },
      "source": [
        "from experta import *\n",
        "f = Fact(a=1, b=2)\n",
        "f['a']"
      ],
      "execution_count": 2,
      "outputs": [
        {
          "output_type": "execute_result",
          "data": {
            "text/plain": [
              "1"
            ]
          },
          "metadata": {
            "tags": []
          },
          "execution_count": 2
        }
      ]
    },
    {
      "cell_type": "markdown",
      "metadata": {
        "id": "9ov_1rFwucGJ",
        "colab_type": "text"
      },
      "source": [
        "In contrast to `dict`, you can create a `Fact` without keys (only values), and `Fact` will create a numeric index for your values."
      ]
    },
    {
      "cell_type": "code",
      "metadata": {
        "id": "1jXh-PLZuibZ",
        "colab_type": "code",
        "colab": {
          "base_uri": "https://localhost:8080/",
          "height": 35
        },
        "outputId": "0a5e9433-acac-4d67-b713-717d210f0ec0"
      },
      "source": [
        "f = Fact('x', 'y', 'z') \n",
        "f[0]"
      ],
      "execution_count": 3,
      "outputs": [
        {
          "output_type": "execute_result",
          "data": {
            "text/plain": [
              "'x'"
            ]
          },
          "metadata": {
            "tags": []
          },
          "execution_count": 3
        }
      ]
    },
    {
      "cell_type": "markdown",
      "metadata": {
        "id": "AWhfZ4Q_usZm",
        "colab_type": "text"
      },
      "source": [
        "You can mix autonumeric values with key-values, but autonumeric must be declared first"
      ]
    },
    {
      "cell_type": "code",
      "metadata": {
        "id": "FtBYGqK1uxX_",
        "colab_type": "code",
        "colab": {}
      },
      "source": [
        "f = Fact('x', 'y', 'z', a=1, b=2)"
      ],
      "execution_count": 0,
      "outputs": []
    },
    {
      "cell_type": "code",
      "metadata": {
        "id": "GjJoeurm8PN_",
        "colab_type": "code",
        "colab": {
          "base_uri": "https://localhost:8080/",
          "height": 35
        },
        "outputId": "bde342ee-e184-4b39-9577-aa1be36e712a"
      },
      "source": [
        "f[1] # using index "
      ],
      "execution_count": 5,
      "outputs": [
        {
          "output_type": "execute_result",
          "data": {
            "text/plain": [
              "'y'"
            ]
          },
          "metadata": {
            "tags": []
          },
          "execution_count": 5
        }
      ]
    },
    {
      "cell_type": "code",
      "metadata": {
        "id": "8dbUUgvW8RBy",
        "colab_type": "code",
        "colab": {
          "base_uri": "https://localhost:8080/",
          "height": 35
        },
        "outputId": "bb857513-b433-453d-a05a-29db83caf891"
      },
      "source": [
        "f['b']"
      ],
      "execution_count": 6,
      "outputs": [
        {
          "output_type": "execute_result",
          "data": {
            "text/plain": [
              "2"
            ]
          },
          "metadata": {
            "tags": []
          },
          "execution_count": 6
        }
      ]
    },
    {
      "cell_type": "markdown",
      "metadata": {
        "id": "z1FFjFfp86p9",
        "colab_type": "text"
      },
      "source": [
        "## Facts \n",
        "\n",
        "You can subclass `Fact` to express different kinds of data or extend it with your custom functionality."
      ]
    },
    {
      "cell_type": "code",
      "metadata": {
        "id": "r-_SC1SK8ZxI",
        "colab_type": "code",
        "colab": {}
      },
      "source": [
        "class Alert(Fact):\n",
        "    \"\"\"The alert level.\"\"\"\n",
        "    pass\n",
        "\n",
        "class Status(Fact):\n",
        "    \"\"\"The system status.\"\"\"\n",
        "    pass\n",
        "\n",
        "f1 = Alert('red')\n",
        "f2 = Status('critical')"
      ],
      "execution_count": 0,
      "outputs": []
    },
    {
      "cell_type": "markdown",
      "metadata": {
        "id": "uF6N9Tt6B-AJ",
        "colab_type": "text"
      },
      "source": [
        "## Rules\n",
        "\n",
        "\n",
        "In Experta a **rule** is a callable, decorated with `Rule`.\n",
        "\n",
        "Rules have two components, LHS (left-hand-side) and RHS\n",
        "(right-hand-side).\n",
        "\n",
        "* The *LHS* describes (using **patterns**) the conditions on which the rule * should be executed (or fired).\n",
        "\n",
        "* The *RHS* is the set of actions to perform when the rule is fired.\n",
        "\n",
        "For a `Fact` to match a `Pattern`, all pattern restrictions must be\n",
        "**True** when the `Fact` is evaluated against it.\n"
      ]
    },
    {
      "cell_type": "code",
      "metadata": {
        "id": "NDj3iHu5EAlE",
        "colab_type": "code",
        "colab": {}
      },
      "source": [
        "class MyFact(Fact):\n",
        "  pass\n",
        "\n",
        "@Rule(MyFact())  # This is the LHS\n",
        "def match_with_every_myfact():\n",
        "  \"\"\"This rule will match with every instance of `MyFact`.\"\"\"\n",
        "  # This is the RHS\n",
        "  pass\n",
        "\n",
        "@Rule(Fact('animal', family='felinae'))\n",
        "def match_with_cats():\n",
        "  \"\"\"\n",
        "  Match with every `Fact` which:\n",
        "\n",
        "    * f[0] == 'animal'\n",
        "    * f['family'] == 'felinae'\n",
        "\n",
        "  \"\"\"\n",
        "  print(\"Meow!\") "
      ],
      "execution_count": 0,
      "outputs": []
    },
    {
      "cell_type": "markdown",
      "metadata": {
        "id": "HgfAx7L5KQO4",
        "colab_type": "text"
      },
      "source": [
        "## DefFacts\n",
        "\n",
        "Most of the time expert systems needs a set of facts to be present for the system to work. This is the purpose of the DefFacts decorator.\n",
        "\n",
        "All DefFacts inside a KnowledgeEngine will be called every time the reset method is called.\n",
        "\n",
        "\n",
        "\n"
      ]
    },
    {
      "cell_type": "code",
      "metadata": {
        "id": "EM4ZbFzyKUIU",
        "colab_type": "code",
        "colab": {}
      },
      "source": [
        "@DefFacts()\n",
        "def needed_data():\n",
        "    yield Fact(best_color=\"red\")\n",
        "    yield Fact(best_body=\"medium\")\n",
        "    yield Fact(best_sweetness=\"dry\")"
      ],
      "execution_count": 0,
      "outputs": []
    },
    {
      "cell_type": "markdown",
      "metadata": {
        "id": "yyxjkQwSKmd0",
        "colab_type": "text"
      },
      "source": [
        "## KnowledgeEngine\n",
        "\n",
        "This is the place where all the magic happens.\n",
        "\n",
        "The first step is to make a subclass of it and use Rule to decorate its methods.\n",
        "\n",
        "After that, you can instantiate it, populate it with facts, and finally run it."
      ]
    },
    {
      "cell_type": "code",
      "metadata": {
        "id": "QdZqla2aKvrM",
        "colab_type": "code",
        "colab": {
          "base_uri": "https://localhost:8080/",
          "height": 35
        },
        "outputId": "5603cd80-7c4d-4a89-bd35-bd37df177ba9"
      },
      "source": [
        "engine = KnowledgeEngine()\n",
        "engine.reset()\n",
        "engine.declare(Fact(Color='Blue'))"
      ],
      "execution_count": 10,
      "outputs": [
        {
          "output_type": "execute_result",
          "data": {
            "text/plain": [
              "Fact(Color='Blue')"
            ]
          },
          "metadata": {
            "tags": []
          },
          "execution_count": 10
        }
      ]
    },
    {
      "cell_type": "code",
      "metadata": {
        "id": "9Gyk4Ml6K1l2",
        "colab_type": "code",
        "colab": {
          "base_uri": "https://localhost:8080/",
          "height": 35
        },
        "outputId": "fe9fc5af-405f-4f56-e293-5e6d0ae65f8b"
      },
      "source": [
        "engine.facts"
      ],
      "execution_count": 11,
      "outputs": [
        {
          "output_type": "execute_result",
          "data": {
            "text/plain": [
              "FactList([(0, InitialFact()), (1, Fact(Color='Blue'))])"
            ]
          },
          "metadata": {
            "tags": []
          },
          "execution_count": 11
        }
      ]
    },
    {
      "cell_type": "markdown",
      "metadata": {
        "id": "n7ALBeoWLKtJ",
        "colab_type": "text"
      },
      "source": [
        "### retract\n",
        "Removes an existing fact from the factlist.\n",
        "\n",
        "### modify\n",
        "Retracts some fact from the factlist and declares a new one with some changes. Changes are passed as arguments."
      ]
    },
    {
      "cell_type": "code",
      "metadata": {
        "id": "IYDSDhtGLOSC",
        "colab_type": "code",
        "colab": {
          "base_uri": "https://localhost:8080/",
          "height": 35
        },
        "outputId": "e6e575f5-4f44-43ac-e2ef-538618385cc6"
      },
      "source": [
        "engine.facts"
      ],
      "execution_count": 12,
      "outputs": [
        {
          "output_type": "execute_result",
          "data": {
            "text/plain": [
              "FactList([(0, InitialFact()), (1, Fact(Color='Blue'))])"
            ]
          },
          "metadata": {
            "tags": []
          },
          "execution_count": 12
        }
      ]
    },
    {
      "cell_type": "code",
      "metadata": {
        "id": "Ao6immcvLUnd",
        "colab_type": "code",
        "colab": {
          "base_uri": "https://localhost:8080/",
          "height": 35
        },
        "outputId": "843736a8-1894-4c7a-926e-8fdadd8059e3"
      },
      "source": [
        "engine.modify(engine.facts[1], color='yellow', blink=True)"
      ],
      "execution_count": 13,
      "outputs": [
        {
          "output_type": "execute_result",
          "data": {
            "text/plain": [
              "Fact(Color='Blue', color='yellow', blink=True)"
            ]
          },
          "metadata": {
            "tags": []
          },
          "execution_count": 13
        }
      ]
    },
    {
      "cell_type": "code",
      "metadata": {
        "id": "QoKxSz9hLYcQ",
        "colab_type": "code",
        "colab": {
          "base_uri": "https://localhost:8080/",
          "height": 53
        },
        "outputId": "543bf505-9f9e-4262-d0d1-cece4c198f25"
      },
      "source": [
        "engine.facts"
      ],
      "execution_count": 14,
      "outputs": [
        {
          "output_type": "execute_result",
          "data": {
            "text/plain": [
              "FactList([(0, InitialFact()),\n",
              "          (2, Fact(Color='Blue', color='yellow', blink=True))])"
            ]
          },
          "metadata": {
            "tags": []
          },
          "execution_count": 14
        }
      ]
    },
    {
      "cell_type": "markdown",
      "metadata": {
        "id": "N1d5hFnsLqwc",
        "colab_type": "text"
      },
      "source": [
        "## A simple Example about trafic light "
      ]
    },
    {
      "cell_type": "code",
      "metadata": {
        "id": "Vhsy7T-kLnqq",
        "colab_type": "code",
        "colab": {
          "base_uri": "https://localhost:8080/",
          "height": 53
        },
        "outputId": "7127d272-b24c-4e17-d04c-654471fe0171"
      },
      "source": [
        "from random import choice\n",
        "from experta import *\n",
        "\n",
        "\n",
        "class Light(Fact):\n",
        "  \"\"\"Info about the traffic light.\"\"\"\n",
        "  pass\n",
        "\n",
        "\n",
        "class RobotCrossStreet(KnowledgeEngine):\n",
        "  @Rule(Light(color='green'))\n",
        "  def green_light(self):\n",
        "      print(\"Walk\")\n",
        "\n",
        "  @Rule(Light(color='red'))\n",
        "  def red_light(self):\n",
        "      print(\"Don't walk\")\n",
        "\n",
        "  @Rule(AS.light << Light(color=L('yellow') | L('blinking-yellow')))\n",
        "  def cautious(self, light):\n",
        "      print(\"Be cautious because light is\", light[\"color\"])\n",
        "\n",
        "engine = RobotCrossStreet()\n",
        "engine.reset()\n",
        "color_now = choice(['green', 'yellow', 'blinking-yellow', 'red'])\n",
        "print('color now:', color_now)\n",
        "engine.declare(Light(color=color_now))\n",
        "engine.run()"
      ],
      "execution_count": 15,
      "outputs": [
        {
          "output_type": "stream",
          "text": [
            "color now: blinking-yellow\n",
            "Be cautious because light is blinking-yellow\n"
          ],
          "name": "stdout"
        }
      ]
    },
    {
      "cell_type": "markdown",
      "metadata": {
        "id": "0l-NvMMrOJW2",
        "colab_type": "text"
      },
      "source": [
        "## Animal Example "
      ]
    },
    {
      "cell_type": "code",
      "metadata": {
        "id": "GtVzVefZOMzA",
        "colab_type": "code",
        "colab": {
          "base_uri": "https://localhost:8080/",
          "height": 53
        },
        "outputId": "09667256-34e7-4cc9-e566-f17656ab775e"
      },
      "source": [
        "# (defrule duck animal-is duck) => (assert (sound-is quack))) \n",
        "\n",
        "class Animal(Fact):\n",
        "  \"\"\"Info about the traffic light.\"\"\"\n",
        "  pass\n",
        "\n",
        "\n",
        "class AnimalKE1(KnowledgeEngine):\n",
        "  @Rule(Animal('cat'))\n",
        "  def cat_sound(self):\n",
        "      print(\"mew\")\n",
        "\n",
        "  @Rule(Animal('duck'))\n",
        "  def duck_sound(self):\n",
        "      print(\"quack\")\n",
        "\n",
        "\n",
        "engine = AnimalKE1()\n",
        "engine.reset()\n",
        "animal_type = choice(['duck', 'cat', 'horse'])\n",
        "print('animal:', animal_type)\n",
        "engine.declare(Animal(animal_type))\n",
        "engine.run()"
      ],
      "execution_count": 16,
      "outputs": [
        {
          "output_type": "stream",
          "text": [
            "animal: cat\n",
            "mew\n"
          ],
          "name": "stdout"
        }
      ]
    },
    {
      "cell_type": "code",
      "metadata": {
        "id": "z2ZdzVHmP_FR",
        "colab_type": "code",
        "colab": {
          "base_uri": "https://localhost:8080/",
          "height": 53
        },
        "outputId": "00588f2c-3212-4ccf-d77b-ee336ae8760a"
      },
      "source": [
        "# (defrule is-it-a-duck\n",
        "#   (animal-has webbed-feet)\n",
        "#   (animal-has feathers)\n",
        "#   =>\n",
        "#   (assert (animal-is duck)))\n",
        "\n",
        "class Animal(Fact):\n",
        "  \"\"\"Info about the traffic light.\"\"\"\n",
        "  pass\n",
        "\n",
        "\n",
        "class AnimalKE2(KnowledgeEngine):\n",
        "  @Rule(AND( Animal(has=('feathers')), Animal(has=('feathers'))))\n",
        "  def guess_animal(self):\n",
        "    print(\"Animal is duck\")\n",
        "    print(\"Sound is quack\")\n",
        "\n",
        "\n",
        "engine = AnimalKE2()\n",
        "engine.reset()\n",
        "engine.declare(Animal(has='feathers'), Animal(has='webbed-feet'))\n",
        "engine.run()"
      ],
      "execution_count": 17,
      "outputs": [
        {
          "output_type": "stream",
          "text": [
            "Animal is duck\n",
            "Sound is quack\n"
          ],
          "name": "stdout"
        }
      ]
    },
    {
      "cell_type": "markdown",
      "metadata": {
        "id": "0OZpHsLAj3TQ",
        "colab_type": "text"
      },
      "source": [
        "## conclude a fact "
      ]
    },
    {
      "cell_type": "code",
      "metadata": {
        "id": "M0nWD9QPjN5U",
        "colab_type": "code",
        "colab": {
          "base_uri": "https://localhost:8080/",
          "height": 124
        },
        "outputId": "c189dc24-9940-4c28-a4cb-e5aa0b51ba4c"
      },
      "source": [
        "class Animal(Fact):\n",
        "  \"\"\"Info about the traffic light.\"\"\"\n",
        "  pass\n",
        "\n",
        "\n",
        "class AnimalKE3(KnowledgeEngine):\n",
        "  @Rule(AND( Animal(has=('feathers')), Animal(has=('feathers'))))\n",
        "  def guess_animal(self):\n",
        "    self.declare(Animal('duck'))\n",
        "    print(self.facts)\n",
        "  \n",
        "  @Rule(Animal('duck'))\n",
        "  def it_is_duck(self):\n",
        "    print(\"Animal is duck\")\n",
        "    print(\"Sound is quack\")\n",
        "\n",
        "engine = AnimalKE3()\n",
        "engine.reset()\n",
        "engine.declare(Animal(has='feathers'), Animal(has='webbed-feet'))\n",
        "engine.run()\n",
        "engine.run()"
      ],
      "execution_count": 18,
      "outputs": [
        {
          "output_type": "stream",
          "text": [
            "<f-0>: InitialFact()\n",
            "<f-1>: Animal(has='feathers')\n",
            "<f-2>: Animal(has='webbed-feet')\n",
            "<f-3>: Animal('duck')\n",
            "Animal is duck\n",
            "Sound is quack\n"
          ],
          "name": "stdout"
        }
      ]
    }
  ]
}