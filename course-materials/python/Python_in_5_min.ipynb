{
  "nbformat": 4,
  "nbformat_minor": 0,
  "metadata": {
    "colab": {
      "name": "Python-in-5-min.ipynb",
      "provenance": [],
      "collapsed_sections": []
    },
    "kernelspec": {
      "name": "python3",
      "display_name": "Python 3"
    }
  },
  "cells": [
    {
      "cell_type": "markdown",
      "metadata": {
        "id": "hLkXWHonHzLK",
        "colab_type": "text"
      },
      "source": [
        "#Python in 5 minutes "
      ]
    },
    {
      "cell_type": "markdown",
      "metadata": {
        "id": "1h7EagUxH5nB",
        "colab_type": "text"
      },
      "source": [
        "## define variables "
      ]
    },
    {
      "cell_type": "code",
      "metadata": {
        "id": "74AgiqY3HvfM",
        "colab_type": "code",
        "colab": {}
      },
      "source": [
        "x = 10 \n",
        "y = 3.5\n",
        "z = 'abc'"
      ],
      "execution_count": 0,
      "outputs": []
    },
    {
      "cell_type": "code",
      "metadata": {
        "id": "CotRozo5IEqC",
        "colab_type": "code",
        "outputId": "e34b40e0-4caf-4461-c8f4-6d799a712078",
        "colab": {
          "base_uri": "https://localhost:8080/",
          "height": 35
        }
      },
      "source": [
        "print(x,y,z)"
      ],
      "execution_count": 2,
      "outputs": [
        {
          "output_type": "stream",
          "text": [
            "10 3.5 abc\n"
          ],
          "name": "stdout"
        }
      ]
    },
    {
      "cell_type": "code",
      "metadata": {
        "id": "3fvIsLV6IHTu",
        "colab_type": "code",
        "outputId": "bdba3482-ab30-42ef-ba2e-e15b48d5550e",
        "colab": {
          "base_uri": "https://localhost:8080/",
          "height": 35
        }
      },
      "source": [
        "print(type(x), type(y), type(z))"
      ],
      "execution_count": 3,
      "outputs": [
        {
          "output_type": "stream",
          "text": [
            "<class 'int'> <class 'float'> <class 'str'>\n"
          ],
          "name": "stdout"
        }
      ]
    },
    {
      "cell_type": "markdown",
      "metadata": {
        "id": "Sfh702gbIQhd",
        "colab_type": "text"
      },
      "source": [
        "## comments "
      ]
    },
    {
      "cell_type": "code",
      "metadata": {
        "id": "Lu69IudMIP4l",
        "colab_type": "code",
        "outputId": "171c5f05-bc59-423c-9377-89e7f9a8cc47",
        "colab": {
          "base_uri": "https://localhost:8080/",
          "height": 35
        }
      },
      "source": [
        "# this is a comment (one line)\n",
        "\n",
        "'''\n",
        "this is \n",
        "multiline \n",
        "comment\n",
        "'''\n",
        "print('hello')"
      ],
      "execution_count": 4,
      "outputs": [
        {
          "output_type": "stream",
          "text": [
            "hello\n"
          ],
          "name": "stdout"
        }
      ]
    },
    {
      "cell_type": "markdown",
      "metadata": {
        "id": "7NWQZqC2Iiiu",
        "colab_type": "text"
      },
      "source": [
        "## Lists in Python "
      ]
    },
    {
      "cell_type": "code",
      "metadata": {
        "id": "Ng1uSIXzIlUi",
        "colab_type": "code",
        "colab": {}
      },
      "source": [
        "numbers = [1, 2, 3]\n",
        "things = [1, 4.6, 'abc']"
      ],
      "execution_count": 0,
      "outputs": []
    },
    {
      "cell_type": "code",
      "metadata": {
        "id": "k0foWvrGNOiM",
        "colab_type": "code",
        "outputId": "cc7a1311-4748-4ae1-bdb6-2fec3f768574",
        "colab": {
          "base_uri": "https://localhost:8080/",
          "height": 35
        }
      },
      "source": [
        "numbers[1]"
      ],
      "execution_count": 6,
      "outputs": [
        {
          "output_type": "execute_result",
          "data": {
            "text/plain": [
              "2"
            ]
          },
          "metadata": {
            "tags": []
          },
          "execution_count": 6
        }
      ]
    },
    {
      "cell_type": "code",
      "metadata": {
        "id": "dwDly-NGNSlk",
        "colab_type": "code",
        "outputId": "75475e40-6548-45b5-c992-656565ba3030",
        "colab": {
          "base_uri": "https://localhost:8080/",
          "height": 35
        }
      },
      "source": [
        "things[2]"
      ],
      "execution_count": 7,
      "outputs": [
        {
          "output_type": "execute_result",
          "data": {
            "text/plain": [
              "'abc'"
            ]
          },
          "metadata": {
            "tags": []
          },
          "execution_count": 7
        }
      ]
    },
    {
      "cell_type": "markdown",
      "metadata": {
        "id": "JBuOoQ_PNXv_",
        "colab_type": "text"
      },
      "source": [
        "## Tuple (immutable list)"
      ]
    },
    {
      "cell_type": "code",
      "metadata": {
        "id": "VPGbR46GNdWe",
        "colab_type": "code",
        "colab": {}
      },
      "source": [
        "point = (2, 3)"
      ],
      "execution_count": 0,
      "outputs": []
    },
    {
      "cell_type": "code",
      "metadata": {
        "id": "iPur8lXPNh2a",
        "colab_type": "code",
        "outputId": "ac0cf0ed-be20-462c-fe50-4785615fbd98",
        "colab": {
          "base_uri": "https://localhost:8080/",
          "height": 35
        }
      },
      "source": [
        "point[0]"
      ],
      "execution_count": 9,
      "outputs": [
        {
          "output_type": "execute_result",
          "data": {
            "text/plain": [
              "2"
            ]
          },
          "metadata": {
            "tags": []
          },
          "execution_count": 9
        }
      ]
    },
    {
      "cell_type": "markdown",
      "metadata": {
        "id": "07v6coPYNkT8",
        "colab_type": "text"
      },
      "source": [
        "## Dictionary "
      ]
    },
    {
      "cell_type": "code",
      "metadata": {
        "id": "mY-A_aLRNpCV",
        "colab_type": "code",
        "colab": {}
      },
      "source": [
        "bag = {'pen': 3, 'tissues': 10, 'candy': 3, 'book': 1}"
      ],
      "execution_count": 0,
      "outputs": []
    },
    {
      "cell_type": "code",
      "metadata": {
        "id": "g1Zd60xIOHnB",
        "colab_type": "code",
        "outputId": "a198f722-3ff3-44f4-f62d-fd69889f0a62",
        "colab": {
          "base_uri": "https://localhost:8080/",
          "height": 35
        }
      },
      "source": [
        "bag['book']"
      ],
      "execution_count": 11,
      "outputs": [
        {
          "output_type": "execute_result",
          "data": {
            "text/plain": [
              "1"
            ]
          },
          "metadata": {
            "tags": []
          },
          "execution_count": 11
        }
      ]
    },
    {
      "cell_type": "code",
      "metadata": {
        "id": "T-CSMzx7OKC6",
        "colab_type": "code",
        "outputId": "71b09aa9-19ee-4402-d9b6-343caa986ab9",
        "colab": {
          "base_uri": "https://localhost:8080/",
          "height": 35
        }
      },
      "source": [
        "bag['candy']"
      ],
      "execution_count": 12,
      "outputs": [
        {
          "output_type": "execute_result",
          "data": {
            "text/plain": [
              "3"
            ]
          },
          "metadata": {
            "tags": []
          },
          "execution_count": 12
        }
      ]
    },
    {
      "cell_type": "markdown",
      "metadata": {
        "id": "dwD6YO7OOO7C",
        "colab_type": "text"
      },
      "source": [
        "## loops and decisions "
      ]
    },
    {
      "cell_type": "code",
      "metadata": {
        "id": "0s9GkY6SOSSl",
        "colab_type": "code",
        "outputId": "c72cae1a-e0a5-44f8-bbc6-8fd5fff3c064",
        "colab": {
          "base_uri": "https://localhost:8080/",
          "height": 35
        }
      },
      "source": [
        "range(5)"
      ],
      "execution_count": 13,
      "outputs": [
        {
          "output_type": "execute_result",
          "data": {
            "text/plain": [
              "range(0, 5)"
            ]
          },
          "metadata": {
            "tags": []
          },
          "execution_count": 13
        }
      ]
    },
    {
      "cell_type": "code",
      "metadata": {
        "id": "W_LlTf1GOUdD",
        "colab_type": "code",
        "outputId": "b476b70e-9788-4e6e-e599-e849d29d6614",
        "colab": {
          "base_uri": "https://localhost:8080/",
          "height": 35
        }
      },
      "source": [
        "list(range(5))"
      ],
      "execution_count": 14,
      "outputs": [
        {
          "output_type": "execute_result",
          "data": {
            "text/plain": [
              "[0, 1, 2, 3, 4]"
            ]
          },
          "metadata": {
            "tags": []
          },
          "execution_count": 14
        }
      ]
    },
    {
      "cell_type": "code",
      "metadata": {
        "id": "xYtW71EXOYiZ",
        "colab_type": "code",
        "outputId": "3d03e9a3-c80c-4556-aa5f-f78977f0c6d8",
        "colab": {
          "base_uri": "https://localhost:8080/",
          "height": 106
        }
      },
      "source": [
        "for i in range(5):\n",
        "  print(i)"
      ],
      "execution_count": 15,
      "outputs": [
        {
          "output_type": "stream",
          "text": [
            "0\n",
            "1\n",
            "2\n",
            "3\n",
            "4\n"
          ],
          "name": "stdout"
        }
      ]
    },
    {
      "cell_type": "code",
      "metadata": {
        "id": "aj-JcvYgOpWX",
        "colab_type": "code",
        "outputId": "07824950-9907-4620-e581-19d8eb6ab165",
        "colab": {
          "base_uri": "https://localhost:8080/",
          "height": 35
        }
      },
      "source": [
        "print(things)"
      ],
      "execution_count": 16,
      "outputs": [
        {
          "output_type": "stream",
          "text": [
            "[1, 4.6, 'abc']\n"
          ],
          "name": "stdout"
        }
      ]
    },
    {
      "cell_type": "code",
      "metadata": {
        "id": "7J64UEHhOdTU",
        "colab_type": "code",
        "outputId": "eeb0e163-84aa-4b07-8f4b-4453e3afc779",
        "colab": {
          "base_uri": "https://localhost:8080/",
          "height": 71
        }
      },
      "source": [
        "for thing in things:\n",
        "  print(thing)"
      ],
      "execution_count": 17,
      "outputs": [
        {
          "output_type": "stream",
          "text": [
            "1\n",
            "4.6\n",
            "abc\n"
          ],
          "name": "stdout"
        }
      ]
    },
    {
      "cell_type": "code",
      "metadata": {
        "id": "3u-ZT0DdOsVl",
        "colab_type": "code",
        "outputId": "abaa10e9-ab37-461a-f8b7-55167bf40dd2",
        "colab": {
          "base_uri": "https://localhost:8080/",
          "height": 35
        }
      },
      "source": [
        "import random \n",
        "#Generate 10 random numbers between -100 and 100\n",
        "random_list = random.sample(range(-100, 100), 10)\n",
        "print(random_list)"
      ],
      "execution_count": 18,
      "outputs": [
        {
          "output_type": "stream",
          "text": [
            "[28, 45, 23, -90, -98, 17, 92, 72, 35, 71]\n"
          ],
          "name": "stdout"
        }
      ]
    },
    {
      "cell_type": "markdown",
      "metadata": {
        "id": "o4AyvuKS3Y0s",
        "colab_type": "text"
      },
      "source": [
        "## Decision "
      ]
    },
    {
      "cell_type": "code",
      "metadata": {
        "id": "KhleV-aFSh-R",
        "colab_type": "code",
        "outputId": "23b091f0-d32b-43c3-9b84-3f7a8ddce9cb",
        "colab": {
          "base_uri": "https://localhost:8080/",
          "height": 160
        }
      },
      "source": [
        "for number in random_list:\n",
        "  if number > 0:\n",
        "    print(number)"
      ],
      "execution_count": 19,
      "outputs": [
        {
          "output_type": "stream",
          "text": [
            "28\n",
            "45\n",
            "23\n",
            "17\n",
            "92\n",
            "72\n",
            "35\n",
            "71\n"
          ],
          "name": "stdout"
        }
      ]
    },
    {
      "cell_type": "markdown",
      "metadata": {
        "id": "f27IVPZcSuYC",
        "colab_type": "text"
      },
      "source": [
        "## Classes and objects "
      ]
    },
    {
      "cell_type": "markdown",
      "metadata": {
        "id": "OVLosXigT2ZG",
        "colab_type": "text"
      },
      "source": [
        "### Rectangle class "
      ]
    },
    {
      "cell_type": "code",
      "metadata": {
        "id": "BfavPXuEStja",
        "colab_type": "code",
        "colab": {}
      },
      "source": [
        "class Rectangle:\n",
        "  def __init__(self, length, width):\n",
        "      self.length = length\n",
        "      self.width = width\n",
        "\n",
        "  def area(self):\n",
        "      return self.length * self.width\n",
        "\n",
        "  def perimeter(self):\n",
        "      return 2 * (self.length + self.width) \n",
        "\n",
        "  def __str__(self):\n",
        "    return 'length: {} \\t width:{}'.format(self.length, self.width)\n"
      ],
      "execution_count": 0,
      "outputs": []
    },
    {
      "cell_type": "code",
      "metadata": {
        "id": "DqILtLNCTwYd",
        "colab_type": "code",
        "outputId": "685e0064-f626-4ece-d748-becc1c680972",
        "colab": {
          "base_uri": "https://localhost:8080/",
          "height": 71
        }
      },
      "source": [
        "r1 = Rectangle(length=4, width=4) # rectangle\n",
        "print(r1)\n",
        "print(r1.area())\n",
        "print(r1.perimeter())"
      ],
      "execution_count": 21,
      "outputs": [
        {
          "output_type": "stream",
          "text": [
            "length: 4 \t width:4\n",
            "16\n",
            "16\n"
          ],
          "name": "stdout"
        }
      ]
    },
    {
      "cell_type": "markdown",
      "metadata": {
        "id": "ngs7MFwTT58x",
        "colab_type": "text"
      },
      "source": [
        "## inheritance \n",
        "### Square class "
      ]
    },
    {
      "cell_type": "code",
      "metadata": {
        "id": "UtL4YXg3UC_b",
        "colab_type": "code",
        "outputId": "8414e9fc-3818-4ed3-f106-df2719d25966",
        "colab": {
          "base_uri": "https://localhost:8080/",
          "height": 71
        }
      },
      "source": [
        "#  Here we declare that the Square class inherits from the Rectangle class\n",
        "class Square(Rectangle):\n",
        "    def __init__(self, x):\n",
        "        super().__init__(x, x)\n",
        "        \n",
        "s2 = Square(3)\n",
        "print(s2)\n",
        "print(s2.area())\n",
        "print(s2.perimeter())"
      ],
      "execution_count": 22,
      "outputs": [
        {
          "output_type": "stream",
          "text": [
            "length: 3 \t width:3\n",
            "9\n",
            "12\n"
          ],
          "name": "stdout"
        }
      ]
    }
  ]
}